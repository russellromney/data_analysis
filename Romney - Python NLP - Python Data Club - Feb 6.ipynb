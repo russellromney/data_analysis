{
 "cells": [
  {
   "cell_type": "markdown",
   "metadata": {},
   "source": [
    "# Natural Language Processing (NLP) in Python\n",
    "\n",
    "---\n",
    "\n",
    "Briefly: NLP is all about computer programs being able to understand human language. This includes structure, meaning, and intent. \n",
    "\n",
    "#### Use cases\n",
    "* Determining what people like based off their social media posts\n",
    "* Predicting authorship based on analysis of previous writings\n",
    "* Twitter sentiment analysis for finance/politics\n",
    "* Figuring out who the smartest president was by their writings and speeches\n",
    "* Machine translation\n",
    "* Personal assistants\n",
    "* Customer service chatbots\n",
    "\n",
    "#### Eventually: Natural Language *Generation* (NLG)\n",
    "First, use NLP to teach the computer how to **UNDERSTAND** language. Then you can teach the computer how to **GENERATE** language.\n",
    "\n",
    "---\n",
    "\n",
    "## Today\n",
    "We'll go over how to use the **Natural Language ToolKit** (*NLTK*) library as it is the most popular, was written in Python, and is the easiest to use. \n",
    "\n",
    "We're going to:\n",
    "1. Introduce the **lexicon**\n",
    "2. Get the **corpus**/**corpora**\n",
    "2. **Tokenize** the text,\n",
    "3. Remove **stop words**\n",
    "4. Explore the text,\n",
    "4. Do some basic sentiment analysis,\n",
    "5. Introduce **stemming** and **lemmatizing**\n",
    "\n"
   ]
  },
  {
   "cell_type": "markdown",
   "metadata": {},
   "source": [
    "## Start: download and install NLTK\n",
    "\n",
    "We just need the third-party packages, not the data. Downloading everything else takes a while, so **just select the popular packages on the popup.**"
   ]
  },
  {
   "cell_type": "code",
   "execution_count": 2,
   "metadata": {},
   "outputs": [
    {
     "name": "stdout",
     "output_type": "stream",
     "text": [
      "showing info https://raw.githubusercontent.com/nltk/nltk_data/gh-pages/index.xml\n"
     ]
    },
    {
     "data": {
      "text/plain": [
       "True"
      ]
     },
     "execution_count": 2,
     "metadata": {},
     "output_type": "execute_result"
    }
   ],
   "source": [
    "import nltk\n",
    "nltk.download()\n"
   ]
  },
  {
   "cell_type": "markdown",
   "metadata": {},
   "source": [
    "## Lexicon\n",
    "\n",
    "#### All the words in a language and their meanings.\n",
    "\n",
    "---\n",
    "\n",
    "## Corpus\n",
    "\n",
    "#### A complete body of text to be analyzed. (plural: corpora)\n",
    "\n",
    "---\n",
    "\n",
    "## Our corpus: Trump's Tweets\n",
    "\n",
    "The file trump_tweets.csv contains about 24,000 tweets written directly from Donald J. Trump's personal Twitter account @realDonaldTrump from 2009 to Febraury 5th, 2017. Sourced from the good folks at [Trump Twitter Archive](www.trumptwitterarchive.com). \n",
    "\n",
    "Download from "
   ]
  },
  {
   "cell_type": "code",
   "execution_count": null,
   "metadata": {
    "collapsed": true
   },
   "outputs": [],
   "source": []
  }
 ],
 "metadata": {
  "kernelspec": {
   "display_name": "Python 3",
   "language": "python",
   "name": "python3"
  },
  "language_info": {
   "codemirror_mode": {
    "name": "ipython",
    "version": 3
   },
   "file_extension": ".py",
   "mimetype": "text/x-python",
   "name": "python",
   "nbconvert_exporter": "python",
   "pygments_lexer": "ipython3",
   "version": "3.6.3"
  }
 },
 "nbformat": 4,
 "nbformat_minor": 2
}
