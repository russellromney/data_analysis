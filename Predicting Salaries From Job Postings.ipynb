{
 "cells": [
  {
   "cell_type": "markdown",
   "metadata": {},
   "source": [
    "## Dataset 2 - Predicting Salaries"
   ]
  },
  {
   "cell_type": "code",
   "execution_count": 1,
   "metadata": {
    "collapsed": true
   },
   "outputs": [],
   "source": [
    "import time\n",
    "total_time = time.time()"
   ]
  },
  {
   "cell_type": "code",
   "execution_count": 2,
   "metadata": {
    "collapsed": true
   },
   "outputs": [],
   "source": [
    "import pandas as pd\n",
    "import numpy as np\n",
    "import matplotlib.pyplot as plt\n",
    "%matplotlib inline\n",
    "import seaborn as sns"
   ]
  },
  {
   "cell_type": "code",
   "execution_count": 3,
   "metadata": {},
   "outputs": [
    {
     "name": "stdout",
     "output_type": "stream",
     "text": [
      "         Id                                              Title  \\\n",
      "0  12612628                        Engineering Systems Analyst   \n",
      "1  12612830                            Stress Engineer Glasgow   \n",
      "2  12612844                   Modelling and simulation analyst   \n",
      "3  12613049  Engineering Systems Analyst / Mathematical Mod...   \n",
      "4  12613647         Pioneer, Miser Engineering Systems Analyst   \n",
      "\n",
      "                                     FullDescription  \\\n",
      "0  Engineering Systems Analyst Dorking Surrey Sal...   \n",
      "1  Stress Engineer Glasgow Salary **** to **** We...   \n",
      "2  Mathematical Modeller / Simulation Analyst / O...   \n",
      "3  Engineering Systems Analyst / Mathematical Mod...   \n",
      "4  Pioneer, Miser  Engineering Systems Analyst Do...   \n",
      "\n",
      "                         LocationRaw LocationNormalized ContractType  \\\n",
      "0            Dorking, Surrey, Surrey            Dorking          NaN   \n",
      "1        Glasgow, Scotland, Scotland            Glasgow          NaN   \n",
      "2  Hampshire, South East, South East          Hampshire          NaN   \n",
      "3     Surrey, South East, South East             Surrey          NaN   \n",
      "4     Surrey, South East, South East             Surrey          NaN   \n",
      "\n",
      "  ContractTime                       Company          Category  \\\n",
      "0    permanent  Gregory Martin International  Engineering Jobs   \n",
      "1    permanent  Gregory Martin International  Engineering Jobs   \n",
      "2    permanent  Gregory Martin International  Engineering Jobs   \n",
      "3    permanent  Gregory Martin International  Engineering Jobs   \n",
      "4    permanent  Gregory Martin International  Engineering Jobs   \n",
      "\n",
      "                                SalaryRaw  SalaryNormalized        SourceName  \n",
      "0              20000 - 30000/annum 20-30K             25000  cv-library.co.uk  \n",
      "1              25000 - 35000/annum 25-35K             30000  cv-library.co.uk  \n",
      "2              20000 - 40000/annum 20-40K             30000  cv-library.co.uk  \n",
      "3  25000 - 30000/annum 25K-30K negotiable             27500  cv-library.co.uk  \n",
      "4              20000 - 30000/annum 20-30K             25000  cv-library.co.uk  \n",
      "(10000, 12)\n"
     ]
    }
   ],
   "source": [
    "adult = pd.read_csv('dataset2.csv')\n",
    "print adult.head()\n",
    "print adult.shape"
   ]
  },
  {
   "cell_type": "code",
   "execution_count": 4,
   "metadata": {},
   "outputs": [
    {
     "data": {
      "text/html": [
       "<div>\n",
       "<style>\n",
       "    .dataframe thead tr:only-child th {\n",
       "        text-align: right;\n",
       "    }\n",
       "\n",
       "    .dataframe thead th {\n",
       "        text-align: left;\n",
       "    }\n",
       "\n",
       "    .dataframe tbody tr th {\n",
       "        vertical-align: top;\n",
       "    }\n",
       "</style>\n",
       "<table border=\"1\" class=\"dataframe\">\n",
       "  <thead>\n",
       "    <tr style=\"text-align: right;\">\n",
       "      <th></th>\n",
       "      <th>Id</th>\n",
       "      <th>Title</th>\n",
       "      <th>FullDescription</th>\n",
       "      <th>LocationRaw</th>\n",
       "      <th>LocationNormalized</th>\n",
       "      <th>ContractType</th>\n",
       "      <th>ContractTime</th>\n",
       "      <th>Company</th>\n",
       "      <th>Category</th>\n",
       "      <th>SourceName</th>\n",
       "      <th>SalaryNormalized</th>\n",
       "    </tr>\n",
       "  </thead>\n",
       "  <tbody>\n",
       "    <tr>\n",
       "      <th>0</th>\n",
       "      <td>12612628</td>\n",
       "      <td>Engineering Systems Analyst</td>\n",
       "      <td>Engineering Systems Analyst Dorking Surrey Sal...</td>\n",
       "      <td>Dorking, Surrey, Surrey</td>\n",
       "      <td>Dorking</td>\n",
       "      <td>NaN</td>\n",
       "      <td>permanent</td>\n",
       "      <td>Gregory Martin International</td>\n",
       "      <td>Engineering Jobs</td>\n",
       "      <td>cv-library.co.uk</td>\n",
       "      <td>25000</td>\n",
       "    </tr>\n",
       "    <tr>\n",
       "      <th>1</th>\n",
       "      <td>12612830</td>\n",
       "      <td>Stress Engineer Glasgow</td>\n",
       "      <td>Stress Engineer Glasgow Salary **** to **** We...</td>\n",
       "      <td>Glasgow, Scotland, Scotland</td>\n",
       "      <td>Glasgow</td>\n",
       "      <td>NaN</td>\n",
       "      <td>permanent</td>\n",
       "      <td>Gregory Martin International</td>\n",
       "      <td>Engineering Jobs</td>\n",
       "      <td>cv-library.co.uk</td>\n",
       "      <td>30000</td>\n",
       "    </tr>\n",
       "    <tr>\n",
       "      <th>2</th>\n",
       "      <td>12612844</td>\n",
       "      <td>Modelling and simulation analyst</td>\n",
       "      <td>Mathematical Modeller / Simulation Analyst / O...</td>\n",
       "      <td>Hampshire, South East, South East</td>\n",
       "      <td>Hampshire</td>\n",
       "      <td>NaN</td>\n",
       "      <td>permanent</td>\n",
       "      <td>Gregory Martin International</td>\n",
       "      <td>Engineering Jobs</td>\n",
       "      <td>cv-library.co.uk</td>\n",
       "      <td>30000</td>\n",
       "    </tr>\n",
       "    <tr>\n",
       "      <th>3</th>\n",
       "      <td>12613049</td>\n",
       "      <td>Engineering Systems Analyst / Mathematical Mod...</td>\n",
       "      <td>Engineering Systems Analyst / Mathematical Mod...</td>\n",
       "      <td>Surrey, South East, South East</td>\n",
       "      <td>Surrey</td>\n",
       "      <td>NaN</td>\n",
       "      <td>permanent</td>\n",
       "      <td>Gregory Martin International</td>\n",
       "      <td>Engineering Jobs</td>\n",
       "      <td>cv-library.co.uk</td>\n",
       "      <td>27500</td>\n",
       "    </tr>\n",
       "    <tr>\n",
       "      <th>4</th>\n",
       "      <td>12613647</td>\n",
       "      <td>Pioneer, Miser Engineering Systems Analyst</td>\n",
       "      <td>Pioneer, Miser  Engineering Systems Analyst Do...</td>\n",
       "      <td>Surrey, South East, South East</td>\n",
       "      <td>Surrey</td>\n",
       "      <td>NaN</td>\n",
       "      <td>permanent</td>\n",
       "      <td>Gregory Martin International</td>\n",
       "      <td>Engineering Jobs</td>\n",
       "      <td>cv-library.co.uk</td>\n",
       "      <td>25000</td>\n",
       "    </tr>\n",
       "  </tbody>\n",
       "</table>\n",
       "</div>"
      ],
      "text/plain": [
       "         Id                                              Title  \\\n",
       "0  12612628                        Engineering Systems Analyst   \n",
       "1  12612830                            Stress Engineer Glasgow   \n",
       "2  12612844                   Modelling and simulation analyst   \n",
       "3  12613049  Engineering Systems Analyst / Mathematical Mod...   \n",
       "4  12613647         Pioneer, Miser Engineering Systems Analyst   \n",
       "\n",
       "                                     FullDescription  \\\n",
       "0  Engineering Systems Analyst Dorking Surrey Sal...   \n",
       "1  Stress Engineer Glasgow Salary **** to **** We...   \n",
       "2  Mathematical Modeller / Simulation Analyst / O...   \n",
       "3  Engineering Systems Analyst / Mathematical Mod...   \n",
       "4  Pioneer, Miser  Engineering Systems Analyst Do...   \n",
       "\n",
       "                         LocationRaw LocationNormalized ContractType  \\\n",
       "0            Dorking, Surrey, Surrey            Dorking          NaN   \n",
       "1        Glasgow, Scotland, Scotland            Glasgow          NaN   \n",
       "2  Hampshire, South East, South East          Hampshire          NaN   \n",
       "3     Surrey, South East, South East             Surrey          NaN   \n",
       "4     Surrey, South East, South East             Surrey          NaN   \n",
       "\n",
       "  ContractTime                       Company          Category  \\\n",
       "0    permanent  Gregory Martin International  Engineering Jobs   \n",
       "1    permanent  Gregory Martin International  Engineering Jobs   \n",
       "2    permanent  Gregory Martin International  Engineering Jobs   \n",
       "3    permanent  Gregory Martin International  Engineering Jobs   \n",
       "4    permanent  Gregory Martin International  Engineering Jobs   \n",
       "\n",
       "         SourceName  SalaryNormalized  \n",
       "0  cv-library.co.uk             25000  \n",
       "1  cv-library.co.uk             30000  \n",
       "2  cv-library.co.uk             30000  \n",
       "3  cv-library.co.uk             27500  \n",
       "4  cv-library.co.uk             25000  "
      ]
     },
     "execution_count": 4,
     "metadata": {},
     "output_type": "execute_result"
    }
   ],
   "source": [
    "X = adult[['Id', 'Title', 'FullDescription', 'LocationRaw', 'LocationNormalized', 'ContractType', 'ContractTime', 'Company', 'Category', 'SourceName']]\n",
    "y = adult['SalaryNormalized']\n",
    "df = df = pd.concat([X,y],axis=1)\n",
    "df.head()"
   ]
  },
  {
   "cell_type": "code",
   "execution_count": 5,
   "metadata": {},
   "outputs": [
    {
     "name": "stdout",
     "output_type": "stream",
     "text": [
      "Id 0\n",
      "Title 1\n",
      "FullDescription 0\n",
      "LocationRaw 0\n",
      "LocationNormalized 0\n",
      "ContractType 6444\n",
      "ContractTime 5263\n",
      "Company 4049\n",
      "Category 0\n",
      "SourceName 0\n",
      "SalaryNormalized 0\n"
     ]
    }
   ],
   "source": [
    "for col in df:\n",
    "    print col,df[col].isnull().sum()"
   ]
  },
  {
   "cell_type": "code",
   "execution_count": 6,
   "metadata": {},
   "outputs": [],
   "source": [
    "#na = df.dropna(inplace=True,axis=0)"
   ]
  },
  {
   "cell_type": "code",
   "execution_count": 7,
   "metadata": {},
   "outputs": [
    {
     "name": "stdout",
     "output_type": "stream",
     "text": [
      "Id 0\n",
      "Title 1\n",
      "FullDescription 0\n",
      "LocationRaw 0\n",
      "LocationNormalized 0\n",
      "ContractType 6444\n",
      "ContractTime 5263\n",
      "Company 4049\n",
      "Category 0\n",
      "SourceName 0\n",
      "SalaryNormalized 0\n"
     ]
    }
   ],
   "source": [
    "for col in df:\n",
    "    print col,df[col].isnull().sum()"
   ]
  },
  {
   "cell_type": "markdown",
   "metadata": {},
   "source": [
    "### Linear Regression\n"
   ]
  },
  {
   "cell_type": "markdown",
   "metadata": {},
   "source": [
    "#### basic linear regression with only basic variables"
   ]
  },
  {
   "cell_type": "code",
   "execution_count": 8,
   "metadata": {
    "collapsed": true
   },
   "outputs": [],
   "source": [
    "def LinReg(num,X_dummies,yvar):\n",
    "    import time\n",
    "    start_time = time.time()\n",
    "    Xdf = X_dummies\n",
    "    # split data\n",
    "    from sklearn.model_selection import train_test_split\n",
    "    X_train,X_test,y_train,y_test = train_test_split(Xdf,yvar,test_size=0.5,random_state=1234)\n",
    "    # scale data\n",
    "    from sklearn.preprocessing import StandardScaler\n",
    "    scaler = StandardScaler()\n",
    "    X_train = pd.DataFrame(scaler.fit_transform(X_train.astype(\"float64\")),columns=X_train.columns)\n",
    "    X_test = scaler.transform(X_test.astype(\"float64\"))\n",
    "    # create\n",
    "    from sklearn.linear_model import LinearRegression as LR\n",
    "    lm = LR()\n",
    "    lm.fit(X_train,y_train)\n",
    "    pred = lm.predict(X_train)\n",
    "    from sklearn.metrics import mean_squared_error as mse\n",
    "    print 'RMSE:',(mse(y_test,pred))**.5\n",
    "    print 'time:',time.time()-start_time"
   ]
  },
  {
   "cell_type": "code",
   "execution_count": 9,
   "metadata": {},
   "outputs": [
    {
     "name": "stdout",
     "output_type": "stream",
     "text": [
      "RMSE: 21181.4424725\n",
      "time: 2.31900000572\n"
     ]
    }
   ],
   "source": [
    "data = df\n",
    "Xdum = pd.get_dummies(data[['Category','LocationNormalized','ContractTime']]) \n",
    "y = data['SalaryNormalized']\n",
    "lr1 = LinReg(1,Xdum,y)"
   ]
  },
  {
   "cell_type": "code",
   "execution_count": 10,
   "metadata": {},
   "outputs": [
    {
     "name": "stdout",
     "output_type": "stream",
     "text": [
      "RMSE: 24585.7144135\n",
      "time: 2.05999994278\n"
     ]
    }
   ],
   "source": [
    "data = df\n",
    "Xdum = pd.get_dummies(data[['Category','LocationNormalized','ContractTime','ContractType']]) \n",
    "y = data['SalaryNormalized']\n",
    "lr1 = LinReg(1,Xdum,y)"
   ]
  },
  {
   "cell_type": "code",
   "execution_count": 11,
   "metadata": {},
   "outputs": [
    {
     "name": "stdout",
     "output_type": "stream",
     "text": [
      "RMSE: 17487.955297\n",
      "time: 0.0490000247955\n"
     ]
    }
   ],
   "source": [
    "data = df\n",
    "Xdum = pd.get_dummies(data[['Category','ContractTime']]) \n",
    "y = data['SalaryNormalized']\n",
    "lr1 = LinReg(1,Xdum,y)"
   ]
  },
  {
   "cell_type": "code",
   "execution_count": 12,
   "metadata": {},
   "outputs": [
    {
     "name": "stdout",
     "output_type": "stream",
     "text": [
      "RMSE: 17727.7341769\n",
      "time: 0.109999895096\n"
     ]
    }
   ],
   "source": [
    "data = df\n",
    "Xdum = pd.get_dummies(data[['SourceName']]) \n",
    "y = data['SalaryNormalized']\n",
    "lr1 = LinReg(1,Xdum,y)"
   ]
  },
  {
   "cell_type": "code",
   "execution_count": 13,
   "metadata": {},
   "outputs": [
    {
     "name": "stdout",
     "output_type": "stream",
     "text": [
      "RMSE: 22411.4144717\n",
      "time: 3.63700008392\n"
     ]
    }
   ],
   "source": [
    "data = df\n",
    "Xdum = pd.get_dummies(data[['Category','Company']]) \n",
    "y = data['SalaryNormalized']\n",
    "lr1 = LinReg(1,Xdum,y)"
   ]
  },
  {
   "cell_type": "code",
   "execution_count": 14,
   "metadata": {},
   "outputs": [
    {
     "name": "stdout",
     "output_type": "stream",
     "text": [
      "RMSE: 25197.0501334\n",
      "time: 2.78399991989\n"
     ]
    }
   ],
   "source": [
    "data = df\n",
    "Xdum = pd.get_dummies(data[['Company']]) \n",
    "y = data['SalaryNormalized']\n",
    "lr1 = LinReg(1,Xdum,y)"
   ]
  },
  {
   "cell_type": "code",
   "execution_count": 15,
   "metadata": {},
   "outputs": [
    {
     "name": "stdout",
     "output_type": "stream",
     "text": [
      "RMSE: 28146.2050072\n",
      "time: 1.50499987602\n"
     ]
    }
   ],
   "source": [
    "data = df\n",
    "Xdum = pd.get_dummies(data[['Category','LocationNormalized']]) \n",
    "y = data['SalaryNormalized']\n",
    "lr1 = LinReg(1,Xdum,y)"
   ]
  },
  {
   "cell_type": "code",
   "execution_count": 16,
   "metadata": {},
   "outputs": [
    {
     "name": "stdout",
     "output_type": "stream",
     "text": [
      "RMSE: 21257.3240661\n",
      "time: 1.76499986649\n"
     ]
    }
   ],
   "source": [
    "data = df\n",
    "Xdum = pd.get_dummies(data[['SourceName','LocationNormalized']]) \n",
    "y = data['SalaryNormalized']\n",
    "lr1 = LinReg(1,Xdum,y)"
   ]
  },
  {
   "cell_type": "code",
   "execution_count": 17,
   "metadata": {},
   "outputs": [
    {
     "name": "stdout",
     "output_type": "stream",
     "text": [
      "RMSE: 22804.0920129\n",
      "time: 1.31599998474\n"
     ]
    }
   ],
   "source": [
    "data = df\n",
    "Xdum = pd.get_dummies(data[['LocationNormalized']]) \n",
    "y = data['SalaryNormalized']\n",
    "lr1 = LinReg(1,Xdum,y)"
   ]
  },
  {
   "cell_type": "code",
   "execution_count": 18,
   "metadata": {},
   "outputs": [
    {
     "name": "stdout",
     "output_type": "stream",
     "text": [
      "RMSE: 17798.0901632\n",
      "time: 0.0629999637604\n"
     ]
    }
   ],
   "source": [
    "data = df\n",
    "Xdum = pd.get_dummies(data[['SourceName','ContractTime']]) \n",
    "y = data['SalaryNormalized']\n",
    "lr1 = LinReg(1,Xdum,y)"
   ]
  },
  {
   "cell_type": "code",
   "execution_count": 19,
   "metadata": {},
   "outputs": [
    {
     "name": "stdout",
     "output_type": "stream",
     "text": [
      "RMSE: 17953.1762466\n",
      "time: 0.0979998111725\n"
     ]
    }
   ],
   "source": [
    "data = df\n",
    "Xdum = pd.get_dummies(data[['SourceName','Category']]) \n",
    "y = data['SalaryNormalized']\n",
    "lr1 = LinReg(1,Xdum,y)"
   ]
  },
  {
   "cell_type": "code",
   "execution_count": 20,
   "metadata": {},
   "outputs": [
    {
     "name": "stdout",
     "output_type": "stream",
     "text": [
      "RMSE: 17974.0269877\n",
      "time: 0.0999999046326\n"
     ]
    }
   ],
   "source": [
    "data = df\n",
    "Xdum = pd.get_dummies(data[['SourceName','Category','ContractTime']]) \n",
    "y = data['SalaryNormalized']\n",
    "lr1 = LinReg(1,Xdum,y)"
   ]
  },
  {
   "cell_type": "code",
   "execution_count": 21,
   "metadata": {},
   "outputs": [
    {
     "name": "stdout",
     "output_type": "stream",
     "text": [
      "RMSE: 21528.3907886\n",
      "time: 2.51600003242\n"
     ]
    }
   ],
   "source": [
    "data = df\n",
    "Xdum = pd.get_dummies(data[['Category','ContractTime','Company']]) \n",
    "y = data['SalaryNormalized']\n",
    "lr1 = LinReg(1,Xdum,y)"
   ]
  },
  {
   "cell_type": "markdown",
   "metadata": {},
   "source": [
    "### ---> lowest RMSE with Linear Regression: 17488 with dummies for Category and ContractTime"
   ]
  },
  {
   "cell_type": "markdown",
   "metadata": {},
   "source": [
    "### Running time"
   ]
  },
  {
   "cell_type": "code",
   "execution_count": 22,
   "metadata": {},
   "outputs": [
    {
     "name": "stdout",
     "output_type": "stream",
     "text": [
      "24.3000001907\n"
     ]
    }
   ],
   "source": [
    "print time.time() - total_time"
   ]
  },
  {
   "cell_type": "markdown",
   "metadata": {
    "collapsed": true
   },
   "source": [
    "## Linear Discriminant Analysis"
   ]
  },
  {
   "cell_type": "code",
   "execution_count": 23,
   "metadata": {
    "collapsed": true
   },
   "outputs": [],
   "source": [
    "def LDAModel(num,X_dummies,yvar):\n",
    "    import time\n",
    "    start_time = time.time()\n",
    "    Xdf = X_dummies\n",
    "    # split data\n",
    "    from sklearn.model_selection import train_test_split\n",
    "    X_train,X_test,y_train,y_test = train_test_split(Xdf,yvar,test_size=0.5,random_state=1234)\n",
    "    # scale data\n",
    "    from sklearn.preprocessing import StandardScaler\n",
    "    scaler = StandardScaler()\n",
    "    X_train = pd.DataFrame(scaler.fit_transform(X_train.astype(\"float64\")),columns=X_train.columns)\n",
    "    X_test = scaler.transform(X_test.astype(\"float64\"))\n",
    "    # create\n",
    "    from sklearn.discriminant_analysis import LinearDiscriminantAnalysis as LDA\n",
    "    lda = LDA()\n",
    "    #fit\n",
    "    lda.fit(X_train,y_train)\n",
    "    #test\n",
    "    pred = lda.predict(X_test)\n",
    "    #evaluate\n",
    "    from sklearn.metrics import mean_squared_error as mse\n",
    "    print 'RMSE:',(mse(y_test,pred))**.5\n",
    "    print 'time:',time.time()-start_time"
   ]
  },
  {
   "cell_type": "code",
   "execution_count": 24,
   "metadata": {},
   "outputs": [
    {
     "name": "stdout",
     "output_type": "stream",
     "text": [
      "RMSE: 19403.3676435\n",
      "time: 0.27799987793\n"
     ]
    },
    {
     "name": "stderr",
     "output_type": "stream",
     "text": [
      "C:\\Users\\russd\\Anaconda2\\lib\\site-packages\\sklearn\\discriminant_analysis.py:388: UserWarning: Variables are collinear.\n",
      "  warnings.warn(\"Variables are collinear.\")\n"
     ]
    }
   ],
   "source": [
    "data = df\n",
    "Xdum = pd.get_dummies(data[['Category','ContractTime']]) \n",
    "y = data['SalaryNormalized']\n",
    "LDAModel(1,Xdum,y)"
   ]
  },
  {
   "cell_type": "code",
   "execution_count": 25,
   "metadata": {},
   "outputs": [
    {
     "name": "stdout",
     "output_type": "stream",
     "text": [
      "RMSE: 30675.7856562\n",
      "time: 0.236999988556\n"
     ]
    }
   ],
   "source": [
    "data = df\n",
    "Xdum = pd.get_dummies(data[['SourceName','ContractTime']]) \n",
    "y = data['SalaryNormalized']\n",
    "LDAModel(1,Xdum,y)"
   ]
  },
  {
   "cell_type": "code",
   "execution_count": 26,
   "metadata": {},
   "outputs": [
    {
     "name": "stdout",
     "output_type": "stream",
     "text": [
      "RMSE: 19145.8563773\n",
      "time: 0.138000011444\n"
     ]
    }
   ],
   "source": [
    "data = df\n",
    "Xdum = pd.get_dummies(data[['ContractTime']]) \n",
    "y = data['SalaryNormalized']\n",
    "LDAModel(1,Xdum,y)"
   ]
  },
  {
   "cell_type": "code",
   "execution_count": 27,
   "metadata": {},
   "outputs": [
    {
     "name": "stdout",
     "output_type": "stream",
     "text": [
      "RMSE: 18527.8137142\n",
      "time: 0.244999885559\n"
     ]
    }
   ],
   "source": [
    "data = df\n",
    "Xdum = pd.get_dummies(data[['SourceName']]) \n",
    "y = data['SalaryNormalized']\n",
    "LDAModel(1,Xdum,y)"
   ]
  },
  {
   "cell_type": "code",
   "execution_count": 28,
   "metadata": {},
   "outputs": [
    {
     "name": "stdout",
     "output_type": "stream",
     "text": [
      "RMSE: 30660.2362226\n",
      "time: 4.25699996948\n"
     ]
    }
   ],
   "source": [
    "data = df\n",
    "Xdum = pd.get_dummies(data[['Category','SourceName','LocationNormalized']]) \n",
    "y = data['SalaryNormalized']\n",
    "LDAModel(1,Xdum,y)"
   ]
  },
  {
   "cell_type": "code",
   "execution_count": 29,
   "metadata": {},
   "outputs": [
    {
     "name": "stdout",
     "output_type": "stream",
     "text": [
      "RMSE: 17370.1717898\n",
      "time: 4.90199995041\n"
     ]
    }
   ],
   "source": [
    "data = df\n",
    "Xdum = pd.get_dummies(data[['Category','ContractTime','Company']]) \n",
    "y = data['SalaryNormalized']\n",
    "LDAModel(1,Xdum,y)"
   ]
  },
  {
   "cell_type": "code",
   "execution_count": 30,
   "metadata": {},
   "outputs": [
    {
     "name": "stdout",
     "output_type": "stream",
     "text": [
      "RMSE: 18527.8137142\n",
      "time: 0.197000026703\n"
     ]
    }
   ],
   "source": [
    "data = df\n",
    "Xdum = pd.get_dummies(data[['SourceName']]) \n",
    "y = data['SalaryNormalized']\n",
    "LDAModel(1,Xdum,y)"
   ]
  },
  {
   "cell_type": "code",
   "execution_count": 31,
   "metadata": {},
   "outputs": [
    {
     "name": "stdout",
     "output_type": "stream",
     "text": [
      "RMSE: 19145.8563773\n",
      "time: 0.121999979019\n"
     ]
    }
   ],
   "source": [
    "data = df\n",
    "Xdum = pd.get_dummies(data[['ContractTime']]) \n",
    "y = data['SalaryNormalized']\n",
    "LDAModel(1,Xdum,y)"
   ]
  },
  {
   "cell_type": "code",
   "execution_count": 32,
   "metadata": {},
   "outputs": [
    {
     "name": "stdout",
     "output_type": "stream",
     "text": [
      "RMSE: 30675.7856562\n",
      "time: 0.183000087738\n"
     ]
    }
   ],
   "source": [
    "data = df\n",
    "Xdum = pd.get_dummies(data[['SourceName','ContractTime']]) \n",
    "y = data['SalaryNormalized']\n",
    "LDAModel(1,Xdum,y)"
   ]
  },
  {
   "cell_type": "code",
   "execution_count": 33,
   "metadata": {},
   "outputs": [
    {
     "name": "stdout",
     "output_type": "stream",
     "text": [
      "RMSE: 30669.4085618\n",
      "time: 5.86599993706\n"
     ]
    }
   ],
   "source": [
    "data = df\n",
    "Xdum = pd.get_dummies(data[['SourceName','LocationNormalized','Category']]) \n",
    "y = data['SalaryNormalized']\n",
    "LDAModel(1,Xdum,y)"
   ]
  },
  {
   "cell_type": "code",
   "execution_count": 34,
   "metadata": {},
   "outputs": [
    {
     "name": "stdout",
     "output_type": "stream",
     "text": [
      "RMSE: 17211.8911036\n",
      "time: 0.384000062943\n"
     ]
    }
   ],
   "source": [
    "data = df\n",
    "Xdum = pd.get_dummies(data[['SourceName','Category','ContractTime']]) \n",
    "y = data['SalaryNormalized']\n",
    "LDAModel(1,Xdum,y)"
   ]
  },
  {
   "cell_type": "code",
   "execution_count": 35,
   "metadata": {},
   "outputs": [
    {
     "name": "stdout",
     "output_type": "stream",
     "text": [
      "RMSE: 30582.0243012\n",
      "time: 8.45999979973\n"
     ]
    }
   ],
   "source": [
    "data = df\n",
    "Xdum = pd.get_dummies(data[['Company','ContractTime','Category']]) \n",
    "y = data['SalaryNormalized']\n",
    "LDAModel(1,Xdum,y)"
   ]
  },
  {
   "cell_type": "code",
   "execution_count": 36,
   "metadata": {
    "scrolled": true
   },
   "outputs": [
    {
     "name": "stdout",
     "output_type": "stream",
     "text": [
      "RMSE: 19403.3676435\n",
      "time: 0.477999925613\n"
     ]
    }
   ],
   "source": [
    "data = df\n",
    "Xdum = pd.get_dummies(data[['ContractTime','Category']]) \n",
    "y = data['SalaryNormalized']\n",
    "LDAModel(1,Xdum,y)"
   ]
  },
  {
   "cell_type": "markdown",
   "metadata": {},
   "source": [
    "### ---> lowest RSME with LDA: 17211 with Category, ContractTime, SourceName"
   ]
  },
  {
   "cell_type": "markdown",
   "metadata": {},
   "source": [
    "## Quadratic Discriminant Analysis"
   ]
  },
  {
   "cell_type": "code",
   "execution_count": 37,
   "metadata": {
    "collapsed": true
   },
   "outputs": [],
   "source": [
    "def QDAModel(X_dummies,yvar):\n",
    "    import time\n",
    "    start_time = time.time()\n",
    "    Xdf = X_dummies\n",
    "    # split data\n",
    "    from sklearn.model_selection import train_test_split\n",
    "    X_train,X_test,y_train,y_test = train_test_split(Xdf,yvar,test_size=0.5,random_state=1234)\n",
    "    # scale data\n",
    "    from sklearn.preprocessing import StandardScaler\n",
    "    scaler = StandardScaler()\n",
    "    X_train = pd.DataFrame(scaler.fit_transform(X_train.astype(\"float64\")),columns=X_train.columns)\n",
    "    X_test = scaler.transform(X_test.astype(\"float64\"))\n",
    "    # create\n",
    "    from sklearn.discriminant_analysis import QuadraticDiscriminantAnalysis as QDA\n",
    "    qda = QDA()\n",
    "    #fit\n",
    "    qda.fit(X_train,y_train)\n",
    "    #test\n",
    "    pred = qda.predict(X_test)\n",
    "    #evaluate\n",
    "    from sklearn.metrics import mean_squared_error as mse\n",
    "    print 'RMSE:',(mse(y_test,pred))**.5\n",
    "    print 'time:',time.time()-start_time"
   ]
  },
  {
   "cell_type": "markdown",
   "metadata": {},
   "source": [
    "### ---> lowest RSME with QDA: 17212 with SourceName, Category, ContractTime"
   ]
  },
  {
   "cell_type": "markdown",
   "metadata": {},
   "source": [
    "## K Nearest Neighbors"
   ]
  },
  {
   "cell_type": "code",
   "execution_count": 38,
   "metadata": {},
   "outputs": [],
   "source": [
    "def KNNModel(num,X_dummies,yvar,neighbors):\n",
    "    import time\n",
    "    start_time = time.time()\n",
    "    Xdf = X_dummies\n",
    "    # split data\n",
    "    from sklearn.model_selection import train_test_split\n",
    "    X_train,X_test,y_train,y_test = train_test_split(Xdf,yvar,test_size=0.5,random_state=1234)\n",
    "    # scale data\n",
    "    from sklearn.preprocessing import StandardScaler\n",
    "    scaler = StandardScaler()\n",
    "    X_train = pd.DataFrame(scaler.fit_transform(X_train.astype(\"float64\")),columns=X_train.columns)\n",
    "    X_test = scaler.transform(X_test.astype(\"float64\"))\n",
    "    # create\n",
    "    from sklearn.neighbors import KNeighborsClassifier as KNN\n",
    "    #create\n",
    "    knn = KNN(n_neighbors=neighbors)\n",
    "    #fit\n",
    "    knn.fit(X_train,y_train)\n",
    "    #test\n",
    "    pred = knn.predict(X_test)\n",
    "    #evaluate\n",
    "    from sklearn.metrics import mean_squared_error as mse\n",
    "    print 'RMSE:',(mse(y_test,pred))**.5\n",
    "    print 'time:',time.time()-start_time"
   ]
  },
  {
   "cell_type": "code",
   "execution_count": 39,
   "metadata": {},
   "outputs": [
    {
     "name": "stdout",
     "output_type": "stream",
     "text": [
      "RMSE: 24576.629702\n",
      "time: 5.02399992943\n"
     ]
    }
   ],
   "source": [
    "data = df\n",
    "Xdum = pd.get_dummies(data[['ContractTime','Category']]) \n",
    "y = data['SalaryNormalized']\n",
    "KNNModel(1,Xdum,y,1)"
   ]
  },
  {
   "cell_type": "code",
   "execution_count": 40,
   "metadata": {},
   "outputs": [
    {
     "name": "stdout",
     "output_type": "stream",
     "text": [
      "RMSE: 17884.1592208\n",
      "time: 4.86299991608\n"
     ]
    }
   ],
   "source": [
    "data = df\n",
    "Xdum = pd.get_dummies(data[['ContractTime','Category']]) \n",
    "y = data['SalaryNormalized']\n",
    "KNNModel(1,Xdum,y,3)"
   ]
  },
  {
   "cell_type": "code",
   "execution_count": 41,
   "metadata": {},
   "outputs": [
    {
     "name": "stdout",
     "output_type": "stream",
     "text": [
      "RMSE: 19860.417021\n",
      "time: 4.75100016594\n"
     ]
    }
   ],
   "source": [
    "data = df\n",
    "Xdum = pd.get_dummies(data[['ContractTime','Category']]) \n",
    "y = data['SalaryNormalized']\n",
    "KNNModel(1,Xdum,y,12)"
   ]
  },
  {
   "cell_type": "code",
   "execution_count": 42,
   "metadata": {},
   "outputs": [
    {
     "name": "stdout",
     "output_type": "stream",
     "text": [
      "RMSE: 17614.6264075\n",
      "time: 15.5789999962\n"
     ]
    }
   ],
   "source": [
    "data = df\n",
    "Xdum = pd.get_dummies(data[['ContractTime','Category','SourceName']]) \n",
    "y = data['SalaryNormalized']\n",
    "KNNModel(1,Xdum,y,3)"
   ]
  },
  {
   "cell_type": "markdown",
   "metadata": {},
   "source": [
    "### ---> lowest RSME with KNN: 17614 with ContractTime, Category, SourceName"
   ]
  },
  {
   "cell_type": "markdown",
   "metadata": {},
   "source": [
    "## Naive Bayes"
   ]
  },
  {
   "cell_type": "code",
   "execution_count": 43,
   "metadata": {
    "collapsed": true
   },
   "outputs": [],
   "source": [
    "def NBModel(num,X_dummies,yvar):\n",
    "    import time\n",
    "    start_time = time.time()\n",
    "    Xdf = X_dummies\n",
    "    # split data\n",
    "    from sklearn.model_selection import train_test_split\n",
    "    X_train,X_test,y_train,y_test = train_test_split(Xdf,yvar,test_size=0.5,random_state=1234)\n",
    "    # scale data\n",
    "    from sklearn.preprocessing import StandardScaler\n",
    "    scaler = StandardScaler()\n",
    "    X_train = pd.DataFrame(scaler.fit_transform(X_train.astype(\"float64\")),columns=X_train.columns)\n",
    "    X_test = scaler.transform(X_test.astype(\"float64\"))\n",
    "    # create\n",
    "    from sklearn.naive_bayes import GaussianNB as GNB\n",
    "    gnb = GNB()\n",
    "    gnb.fit(X_train,y_train)\n",
    "    pred = gnb.predict(X_test)\n",
    "    #evaluate\n",
    "    from sklearn.metrics import mean_squared_error as mse\n",
    "    print 'RMSE:',(mse(y_test,pred))**.5\n",
    "    print 'time:',time.time()-start_time"
   ]
  },
  {
   "cell_type": "code",
   "execution_count": 44,
   "metadata": {},
   "outputs": [
    {
     "name": "stdout",
     "output_type": "stream",
     "text": [
      "RMSE: 37358.5591818\n",
      "time: 11.754999876\n"
     ]
    }
   ],
   "source": [
    "data = df\n",
    "Xdum = pd.get_dummies(data[['ContractTime','Category','SourceName']]) \n",
    "y = data['SalaryNormalized']\n",
    "NBModel(1,Xdum,y)"
   ]
  },
  {
   "cell_type": "code",
   "execution_count": 45,
   "metadata": {},
   "outputs": [
    {
     "name": "stdout",
     "output_type": "stream",
     "text": [
      "RMSE: 42647.1966903\n",
      "time: 9.125\n"
     ]
    }
   ],
   "source": [
    "data = df\n",
    "Xdum = pd.get_dummies(data[['SourceName']]) \n",
    "y = data['SalaryNormalized']\n",
    "NBModel(1,Xdum,y)"
   ]
  },
  {
   "cell_type": "markdown",
   "metadata": {},
   "source": [
    "### ---> lowest RSME with NB: 37358 with ContractTime Category, SourceName"
   ]
  },
  {
   "cell_type": "markdown",
   "metadata": {},
   "source": [
    "## run time"
   ]
  },
  {
   "cell_type": "code",
   "execution_count": 46,
   "metadata": {},
   "outputs": [
    {
     "name": "stdout",
     "output_type": "stream",
     "text": [
      "total run time: 102.992000103\n"
     ]
    }
   ],
   "source": [
    "print 'total run time:',time.time() - total_time"
   ]
  }
 ],
 "metadata": {
  "kernelspec": {
   "display_name": "Python 2",
   "language": "python",
   "name": "python2"
  },
  "language_info": {
   "codemirror_mode": {
    "name": "ipython",
    "version": 2
   },
   "file_extension": ".py",
   "mimetype": "text/x-python",
   "name": "python",
   "nbconvert_exporter": "python",
   "pygments_lexer": "ipython2",
   "version": "2.7.13"
  }
 },
 "nbformat": 4,
 "nbformat_minor": 2
}
